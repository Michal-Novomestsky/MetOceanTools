{
 "cells": [
  {
   "cell_type": "code",
   "execution_count": 1,
   "id": "14d7a5a2",
   "metadata": {},
   "outputs": [],
   "source": [
    "import matplotlib.pyplot as plt\n",
    "import seaborn as sns\n",
    "import os\n",
    "import numpy as np\n",
    "import pandas as pd\n",
    "import datetime\n",
    "\n",
    "from pathlib import Path\n",
    "from run_cleanup import _cleanup_iteration, cleanup_loop\n",
    "\n",
    "sns.set_theme(style='darkgrid')"
   ]
  },
  {
   "cell_type": "code",
   "execution_count": 2,
   "id": "3c2aa4bc",
   "metadata": {},
   "outputs": [],
   "source": [
    "#file = Path(os.path.join('Analysis', 'Cleanup', 'NRAFBR_20042015_050000.txt'))\n",
    "read_dir = Path(os.path.join('Analysis', 'Cleanup'))\n",
    "write_dir = Path(os.path.join('Analysis', 'Cleanup', 'output'))\n",
    "file_selector_name = '17042015'#'20042015'"
   ]
  },
  {
   "cell_type": "code",
   "execution_count": 3,
   "id": "8c033509",
   "metadata": {
    "scrolled": false
   },
   "outputs": [
    {
     "name": "stdout",
     "output_type": "stream",
     "text": [
      "Using 100% of available cores -> 8/8\n",
      "NRAFBR_17042015_140000: Pruned\n",
      "NRAFBR_17042015_140000: Plotting/Sanity Checking Complete\n",
      "Cleaned up NRAFBR_17042015_140000\n",
      "Cleanup run done!\n",
      "Rejected files:\n",
      "0 files rejected\n"
     ]
    }
   ],
   "source": [
    "cleanup_loop(read_dir, write_dir, supervised=False, file_selector_name=file_selector_name)"
   ]
  },
  {
   "cell_type": "code",
   "execution_count": 4,
   "id": "53de2b85",
   "metadata": {
    "scrolled": false
   },
   "outputs": [
    {
     "ename": "NameError",
     "evalue": "name 'file' is not defined",
     "output_type": "error",
     "traceback": [
      "\u001b[0;31m---------------------------------------------------------------------------\u001b[0m",
      "\u001b[0;31mNameError\u001b[0m                                 Traceback (most recent call last)",
      "Cell \u001b[0;32mIn [4], line 1\u001b[0m\n\u001b[0;32m----> 1\u001b[0m _cleanup_iteration(file, write_dir)\n",
      "\u001b[0;31mNameError\u001b[0m: name 'file' is not defined"
     ]
    }
   ],
   "source": [
    "_cleanup_iteration(file, write_dir)"
   ]
  },
  {
   "cell_type": "code",
   "execution_count": null,
   "id": "0e39c7d8",
   "metadata": {},
   "outputs": [],
   "source": []
  }
 ],
 "metadata": {
  "kernelspec": {
   "display_name": "Python 3 (ipykernel)",
   "language": "python",
   "name": "python3"
  },
  "language_info": {
   "codemirror_mode": {
    "name": "ipython",
    "version": 3
   },
   "file_extension": ".py",
   "mimetype": "text/x-python",
   "name": "python",
   "nbconvert_exporter": "python",
   "pygments_lexer": "ipython3",
   "version": "3.8.10"
  }
 },
 "nbformat": 4,
 "nbformat_minor": 5
}
